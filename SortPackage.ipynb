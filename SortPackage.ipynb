{
 "cells": [
  {
   "cell_type": "code",
   "execution_count": 17,
   "id": "03dfc903-f706-4e3e-b207-2ec6bb8122b6",
   "metadata": {},
   "outputs": [],
   "source": [
    "def sort(width, height, length, mass):\n",
    "\n",
    "    for name, value in zip(['width', 'height', 'length', 'mass'], [width, height, length, mass]):\n",
    "        if value is None:\n",
    "            raise ValueError(f\"{name} must not be None\")\n",
    "        if not isinstance(value, (int, float)):\n",
    "            raise TypeError(f\"{name} must be a number\")\n",
    "        if value <= 0:\n",
    "            raise ValueError(f\"{name} must be greater than 0\")\n",
    "\n",
    "    isbulky = ( ( width * height * length ) >= 1000000 ) or (width >=150) or (height >=150) or (length >=150)\n",
    "    isheavy = mass >= 20\n",
    "    \n",
    "    if isheavy and isbulky:\n",
    "        return 'REJECTED'\n",
    "    elif isheavy or isbulky:\n",
    "        return 'SPECIAL'\n",
    "    else:\n",
    "        return 'STANDARD'\n"
   ]
  },
  {
   "cell_type": "code",
   "execution_count": 18,
   "id": "f0d136a4-6a07-4938-bf16-8d9af0b74273",
   "metadata": {},
   "outputs": [
    {
     "name": "stdout",
     "output_type": "stream",
     "text": [
      "STANDARD\n"
     ]
    }
   ],
   "source": [
    "print ( sort(5,5,5,10))"
   ]
  },
  {
   "cell_type": "code",
   "execution_count": 19,
   "id": "b5b896f6-87cb-484f-a193-a9b34d053a65",
   "metadata": {},
   "outputs": [
    {
     "name": "stdout",
     "output_type": "stream",
     "text": [
      "SPECIAL\n"
     ]
    }
   ],
   "source": [
    "print ( sort(100,100,100,10))"
   ]
  },
  {
   "cell_type": "code",
   "execution_count": 20,
   "id": "a71d16cd-1b27-48b4-94b8-0222827e284d",
   "metadata": {},
   "outputs": [
    {
     "name": "stdout",
     "output_type": "stream",
     "text": [
      "SPECIAL\n"
     ]
    }
   ],
   "source": [
    "print ( sort(100,100,99,20))"
   ]
  },
  {
   "cell_type": "code",
   "execution_count": 21,
   "id": "941639a3-773d-437e-8992-a4ada8ae2ea9",
   "metadata": {},
   "outputs": [
    {
     "name": "stdout",
     "output_type": "stream",
     "text": [
      "REJECTED\n"
     ]
    }
   ],
   "source": [
    "print ( sort(100,100,100,20))"
   ]
  },
  {
   "cell_type": "code",
   "execution_count": 22,
   "id": "2021fbab-9760-4679-b4d4-8cba18317df1",
   "metadata": {},
   "outputs": [
    {
     "name": "stdout",
     "output_type": "stream",
     "text": [
      "REJECTED\n",
      "REJECTED\n",
      "REJECTED\n"
     ]
    }
   ],
   "source": [
    "print ( sort(150,100,100,20))\n",
    "print ( sort(100,150,100,20))\n",
    "print ( sort(100,100,150,20))"
   ]
  },
  {
   "cell_type": "code",
   "execution_count": 23,
   "id": "fd80f873-45d0-46c4-9f7f-7b1f4c491d58",
   "metadata": {},
   "outputs": [
    {
     "ename": "ValueError",
     "evalue": "width must be greater than 0",
     "output_type": "error",
     "traceback": [
      "\u001b[1;31m---------------------------------------------------------------------------\u001b[0m",
      "\u001b[1;31mValueError\u001b[0m                                Traceback (most recent call last)",
      "Cell \u001b[1;32mIn[23], line 1\u001b[0m\n\u001b[1;32m----> 1\u001b[0m \u001b[38;5;28mprint\u001b[39m ( \u001b[43msort\u001b[49m\u001b[43m(\u001b[49m\u001b[38;5;241;43m0\u001b[39;49m\u001b[43m,\u001b[49m\u001b[38;5;241;43m5\u001b[39;49m\u001b[43m,\u001b[49m\u001b[38;5;241;43m5\u001b[39;49m\u001b[43m,\u001b[49m\u001b[38;5;241;43m10\u001b[39;49m\u001b[43m)\u001b[49m)\n",
      "Cell \u001b[1;32mIn[17], line 9\u001b[0m, in \u001b[0;36msort\u001b[1;34m(width, height, length, mass)\u001b[0m\n\u001b[0;32m      7\u001b[0m         \u001b[38;5;28;01mraise\u001b[39;00m \u001b[38;5;167;01mTypeError\u001b[39;00m(\u001b[38;5;124mf\u001b[39m\u001b[38;5;124m\"\u001b[39m\u001b[38;5;132;01m{\u001b[39;00mname\u001b[38;5;132;01m}\u001b[39;00m\u001b[38;5;124m must be a number\u001b[39m\u001b[38;5;124m\"\u001b[39m)\n\u001b[0;32m      8\u001b[0m     \u001b[38;5;28;01mif\u001b[39;00m value \u001b[38;5;241m<\u001b[39m\u001b[38;5;241m=\u001b[39m \u001b[38;5;241m0\u001b[39m:\n\u001b[1;32m----> 9\u001b[0m         \u001b[38;5;28;01mraise\u001b[39;00m \u001b[38;5;167;01mValueError\u001b[39;00m(\u001b[38;5;124mf\u001b[39m\u001b[38;5;124m\"\u001b[39m\u001b[38;5;132;01m{\u001b[39;00mname\u001b[38;5;132;01m}\u001b[39;00m\u001b[38;5;124m must be greater than 0\u001b[39m\u001b[38;5;124m\"\u001b[39m)\n\u001b[0;32m     11\u001b[0m isbulky \u001b[38;5;241m=\u001b[39m ( ( width \u001b[38;5;241m*\u001b[39m height \u001b[38;5;241m*\u001b[39m length ) \u001b[38;5;241m>\u001b[39m\u001b[38;5;241m=\u001b[39m \u001b[38;5;241m1000000\u001b[39m ) \u001b[38;5;129;01mor\u001b[39;00m (width \u001b[38;5;241m>\u001b[39m\u001b[38;5;241m=\u001b[39m\u001b[38;5;241m150\u001b[39m) \u001b[38;5;129;01mor\u001b[39;00m (height \u001b[38;5;241m>\u001b[39m\u001b[38;5;241m=\u001b[39m\u001b[38;5;241m150\u001b[39m) \u001b[38;5;129;01mor\u001b[39;00m (length \u001b[38;5;241m>\u001b[39m\u001b[38;5;241m=\u001b[39m\u001b[38;5;241m150\u001b[39m)\n\u001b[0;32m     12\u001b[0m isheavy \u001b[38;5;241m=\u001b[39m mass \u001b[38;5;241m>\u001b[39m\u001b[38;5;241m=\u001b[39m \u001b[38;5;241m20\u001b[39m\n",
      "\u001b[1;31mValueError\u001b[0m: width must be greater than 0"
     ]
    }
   ],
   "source": [
    "print ( sort(0,5,5,10))"
   ]
  },
  {
   "cell_type": "code",
   "execution_count": 25,
   "id": "3e3dea2c-4986-465c-bef1-b7e140df2fed",
   "metadata": {},
   "outputs": [
    {
     "ename": "ValueError",
     "evalue": "height must not be None",
     "output_type": "error",
     "traceback": [
      "\u001b[1;31m---------------------------------------------------------------------------\u001b[0m",
      "\u001b[1;31mValueError\u001b[0m                                Traceback (most recent call last)",
      "Cell \u001b[1;32mIn[25], line 1\u001b[0m\n\u001b[1;32m----> 1\u001b[0m \u001b[38;5;28mprint\u001b[39m ( \u001b[43msort\u001b[49m\u001b[43m(\u001b[49m\u001b[38;5;241;43m5\u001b[39;49m\u001b[43m,\u001b[49m\u001b[38;5;28;43;01mNone\u001b[39;49;00m\u001b[43m,\u001b[49m\u001b[38;5;241;43m5\u001b[39;49m\u001b[43m,\u001b[49m\u001b[38;5;241;43m10\u001b[39;49m\u001b[43m)\u001b[49m)\n",
      "Cell \u001b[1;32mIn[17], line 5\u001b[0m, in \u001b[0;36msort\u001b[1;34m(width, height, length, mass)\u001b[0m\n\u001b[0;32m      3\u001b[0m \u001b[38;5;28;01mfor\u001b[39;00m name, value \u001b[38;5;129;01min\u001b[39;00m \u001b[38;5;28mzip\u001b[39m([\u001b[38;5;124m'\u001b[39m\u001b[38;5;124mwidth\u001b[39m\u001b[38;5;124m'\u001b[39m, \u001b[38;5;124m'\u001b[39m\u001b[38;5;124mheight\u001b[39m\u001b[38;5;124m'\u001b[39m, \u001b[38;5;124m'\u001b[39m\u001b[38;5;124mlength\u001b[39m\u001b[38;5;124m'\u001b[39m, \u001b[38;5;124m'\u001b[39m\u001b[38;5;124mmass\u001b[39m\u001b[38;5;124m'\u001b[39m], [width, height, length, mass]):\n\u001b[0;32m      4\u001b[0m     \u001b[38;5;28;01mif\u001b[39;00m value \u001b[38;5;129;01mis\u001b[39;00m \u001b[38;5;28;01mNone\u001b[39;00m:\n\u001b[1;32m----> 5\u001b[0m         \u001b[38;5;28;01mraise\u001b[39;00m \u001b[38;5;167;01mValueError\u001b[39;00m(\u001b[38;5;124mf\u001b[39m\u001b[38;5;124m\"\u001b[39m\u001b[38;5;132;01m{\u001b[39;00mname\u001b[38;5;132;01m}\u001b[39;00m\u001b[38;5;124m must not be None\u001b[39m\u001b[38;5;124m\"\u001b[39m)\n\u001b[0;32m      6\u001b[0m     \u001b[38;5;28;01mif\u001b[39;00m \u001b[38;5;129;01mnot\u001b[39;00m \u001b[38;5;28misinstance\u001b[39m(value, (\u001b[38;5;28mint\u001b[39m, \u001b[38;5;28mfloat\u001b[39m)):\n\u001b[0;32m      7\u001b[0m         \u001b[38;5;28;01mraise\u001b[39;00m \u001b[38;5;167;01mTypeError\u001b[39;00m(\u001b[38;5;124mf\u001b[39m\u001b[38;5;124m\"\u001b[39m\u001b[38;5;132;01m{\u001b[39;00mname\u001b[38;5;132;01m}\u001b[39;00m\u001b[38;5;124m must be a number\u001b[39m\u001b[38;5;124m\"\u001b[39m)\n",
      "\u001b[1;31mValueError\u001b[0m: height must not be None"
     ]
    }
   ],
   "source": [
    "print ( sort(5,None,5,10))"
   ]
  },
  {
   "cell_type": "code",
   "execution_count": null,
   "id": "7c166ce8-e3f4-4b41-8804-7c2420e89546",
   "metadata": {},
   "outputs": [],
   "source": []
  }
 ],
 "metadata": {
  "kernelspec": {
   "display_name": "Python 3 (ipykernel)",
   "language": "python",
   "name": "python3"
  },
  "language_info": {
   "codemirror_mode": {
    "name": "ipython",
    "version": 3
   },
   "file_extension": ".py",
   "mimetype": "text/x-python",
   "name": "python",
   "nbconvert_exporter": "python",
   "pygments_lexer": "ipython3",
   "version": "3.10.18"
  }
 },
 "nbformat": 4,
 "nbformat_minor": 5
}
